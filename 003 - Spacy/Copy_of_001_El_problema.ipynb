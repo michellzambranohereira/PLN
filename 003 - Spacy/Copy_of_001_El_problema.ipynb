{
  "nbformat": 4,
  "nbformat_minor": 0,
  "metadata": {
    "colab": {
      "provenance": []
    },
    "kernelspec": {
      "name": "python3",
      "display_name": "Python 3"
    },
    "language_info": {
      "name": "python"
    }
  },
  "cells": [
    {
      "cell_type": "markdown",
      "source": [
        "## Parte 1: El Problema - El Texto es solo una \"Sopa de Letras\" para la Computadora"
      ],
      "metadata": {
        "id": "5vgzHzYTTPht"
      }
    },
    {
      "cell_type": "code",
      "source": [
        "texto = \"La CEO de ACME, Lisa Chang, viajará a México para supervisar los nuevos proyectos de energía renovable. Ella se mostró muy entusiasmada.\"\n",
        "print(texto)"
      ],
      "metadata": {
        "id": "poxsz5RsTPM_",
        "colab": {
          "base_uri": "https://localhost:8080/"
        },
        "outputId": "bbfb866a-70aa-4e55-d3f5-23fefca93e9c"
      },
      "execution_count": null,
      "outputs": [
        {
          "output_type": "stream",
          "name": "stdout",
          "text": [
            "La CEO de ACME, Lisa Chang, viajará a México para supervisar los nuevos proyectos de energía renovable. Ella se mostró muy entusiasmada.\n"
          ]
        }
      ]
    },
    {
      "cell_type": "markdown",
      "source": [
        "¿Cómo contamos las palabras acá?\n",
        "len(texto) nos da los caracteres, no sirve. Podríamos usar texto.split(). Hagamos la prueba."
      ],
      "metadata": {
        "id": "7dnxcHgdTlyM"
      }
    },
    {
      "cell_type": "code",
      "execution_count": null,
      "metadata": {
        "id": "nyx_TQMiTKL0",
        "colab": {
          "base_uri": "https://localhost:8080/"
        },
        "outputId": "44d53935-4669-4397-80a0-b3d461e2ced2"
      },
      "outputs": [
        {
          "output_type": "stream",
          "name": "stdout",
          "text": [
            "['La', 'CEO', 'de', 'ACME,', 'Lisa', 'Chang,', 'viajará', 'a', 'México', 'para', 'supervisar', 'los', 'nuevos', 'proyectos', 'de', 'energía', 'renovable.', 'Ella', 'se', 'mostró', 'muy', 'entusiasmada.']\n"
          ]
        }
      ],
      "source": [
        "palabras = texto.split()\n",
        "print(palabras)"
      ]
    },
    {
      "cell_type": "markdown",
      "source": [
        " Limitaciones (El \"Porqué\" necesitamos algo mejor):\n",
        "\n",
        "- \"ACME,\" y \"Chang,\" tienen la coma pegada. No son palabras \"limpias\".\n",
        "- \"La\" y \"los\" son artículos. viajará es una forma conjugada del verbo \"viajar\". ¿Cómo reducimos todo a su forma base para poder analizar frecuencias o temas?\n",
        "- ¿Cómo sabe la máquina que \"ACME\" es una organización y \"Lisa Chang\" es una persona? Para Python, ahora mismo, son solo cadenas de texto idénticas a \"proyectos\"."
      ],
      "metadata": {
        "id": "4oRYb1rST8ls"
      }
    },
    {
      "cell_type": "markdown",
      "source": [
        "## Parte 2: La Solución - spaCy, el Intérprete Lingüístico"
      ],
      "metadata": {
        "id": "it3o0f1bUYfx"
      }
    },
    {
      "cell_type": "code",
      "source": [
        "!pip install spacy -q\n",
        "!python -m spacy download es_core_news_sm -q"
      ],
      "metadata": {
        "id": "1SliLZKZUsNS",
        "colab": {
          "base_uri": "https://localhost:8080/"
        },
        "outputId": "104477ec-f75d-4975-ed0e-2a7f4ac01af5"
      },
      "execution_count": null,
      "outputs": [
        {
          "output_type": "stream",
          "name": "stdout",
          "text": [
            "\u001b[2K     \u001b[90m━━━━━━━━━━━━━━━━━━━━━━━━━━━━━━━━━━━━━━━\u001b[0m \u001b[32m12.9/12.9 MB\u001b[0m \u001b[31m101.1 MB/s\u001b[0m eta \u001b[36m0:00:00\u001b[0m\n",
            "\u001b[?25h\u001b[38;5;2m✔ Download and installation successful\u001b[0m\n",
            "You can now load the package via spacy.load('es_core_news_sm')\n",
            "\u001b[38;5;3m⚠ Restart to reload dependencies\u001b[0m\n",
            "If you are in a Jupyter or Colab notebook, you may need to restart Python in\n",
            "order to load all the package's dependencies. You can do this by selecting the\n",
            "'Restart kernel' or 'Restart runtime' option.\n"
          ]
        }
      ]
    },
    {
      "cell_type": "code",
      "source": [
        "import spacy"
      ],
      "metadata": {
        "id": "yyoCL-ORhWQB"
      },
      "execution_count": null,
      "outputs": []
    },
    {
      "cell_type": "code",
      "source": [
        "# Cargar el modelo de español\n",
        "nlp = spacy.load(\"es_core_news_sm\")\n",
        "\n",
        "# Procesar nuestro texto\n",
        "doc = nlp(texto)\n",
        "\n",
        "print(doc)"
      ],
      "metadata": {
        "id": "MhXs9MsLUmpJ",
        "colab": {
          "base_uri": "https://localhost:8080/"
        },
        "outputId": "296bedda-8164-4e03-dbd2-94596f1aa9d8"
      },
      "execution_count": null,
      "outputs": [
        {
          "output_type": "stream",
          "name": "stdout",
          "text": [
            "La CEO de ACME, Lisa Chang, viajará a México para supervisar los nuevos proyectos de energía renovable. Ella se mostró muy entusiasmada.\n"
          ]
        }
      ]
    },
    {
      "cell_type": "markdown",
      "source": [
        "## Parte 3: Desglosando el Objeto Doc - Los Fundamentos de NLP en Acción"
      ],
      "metadata": {
        "id": "9yyrvtyFVTEl"
      }
    },
    {
      "cell_type": "markdown",
      "source": [
        "**Tokenización (La Unidad Mínima)**\n",
        "\n",
        "Definición: Un token es la unidad mínima de texto con significado (una palabra, un número, un signo de puntuación)."
      ],
      "metadata": {
        "id": "nTc59wXtVbgk"
      }
    },
    {
      "cell_type": "code",
      "source": [
        "for token in doc:\n",
        "    print(token.text)"
      ],
      "metadata": {
        "id": "JiXXBZmKVIYO",
        "colab": {
          "base_uri": "https://localhost:8080/"
        },
        "outputId": "c37eb9a3-f21b-4c50-a28f-564a39a97954"
      },
      "execution_count": null,
      "outputs": [
        {
          "output_type": "stream",
          "name": "stdout",
          "text": [
            "La\n",
            "CEO\n",
            "de\n",
            "ACME\n",
            ",\n",
            "Lisa\n",
            "Chang\n",
            ",\n",
            "viajará\n",
            "a\n",
            "México\n",
            "para\n",
            "supervisar\n",
            "los\n",
            "nuevos\n",
            "proyectos\n",
            "de\n",
            "energía\n",
            "renovable\n",
            ".\n",
            "Ella\n",
            "se\n",
            "mostró\n",
            "muy\n",
            "entusiasmada\n",
            ".\n"
          ]
        }
      ]
    },
    {
      "cell_type": "markdown",
      "source": [
        "**Lematización (La Raíz de la Palabra)**\n",
        "\n",
        "Definición: El \"lema\" es la forma canónica o de diccionario de una palabra. Es la clave para agrupar palabras con el mismo significado."
      ],
      "metadata": {
        "id": "Hr80_hU6Vm98"
      }
    },
    {
      "cell_type": "code",
      "source": [
        "print(\"PALABRA\\t\\tLEMA\")\n",
        "print(\"-------\\t\\t----\")\n",
        "for token in doc:\n",
        "    # Imprimimos el texto del token y su lema\n",
        "    print(f\"{token.text:<15}\\t{token.lemma_}\")"
      ],
      "metadata": {
        "id": "zetn6uCBVzGb",
        "colab": {
          "base_uri": "https://localhost:8080/"
        },
        "outputId": "a7257c8f-4c57-4708-cb17-f833766c5eef"
      },
      "execution_count": null,
      "outputs": [
        {
          "output_type": "stream",
          "name": "stdout",
          "text": [
            "PALABRA\t\tLEMA\n",
            "-------\t\t----\n",
            "La             \tel\n",
            "CEO            \tCEO\n",
            "de             \tde\n",
            "ACME           \tACME\n",
            ",              \t,\n",
            "Lisa           \tLisa\n",
            "Chang          \tChang\n",
            ",              \t,\n",
            "viajará        \tviajar\n",
            "a              \ta\n",
            "México         \tMéxico\n",
            "para           \tpara\n",
            "supervisar     \tsupervisar\n",
            "los            \tel\n",
            "nuevos         \tnuevo\n",
            "proyectos      \tproyecto\n",
            "de             \tde\n",
            "energía        \tenergía\n",
            "renovable      \trenovable\n",
            ".              \t.\n",
            "Ella           \tél\n",
            "se             \tél\n",
            "mostró         \tmostrar\n",
            "muy            \tmucho\n",
            "entusiasmada   \tentusiasmado\n",
            ".              \t.\n"
          ]
        }
      ]
    },
    {
      "cell_type": "markdown",
      "source": [
        "**Part-of-Speech (POS) Tagging (El Rol Gramatical)**\n",
        "\n",
        "Definición: Etiquetar cada palabra según su función gramatical (Sustantivo, Verbo, Adjetivo, etc.)."
      ],
      "metadata": {
        "id": "Jq9ph7b2WCe7"
      }
    },
    {
      "cell_type": "code",
      "source": [
        "print(\"PALABRA\\t\\tPOS\\t\\tEXPLICACIÓN\")\n",
        "print(\"-------\\t\\t---\\t\\t-----------\")\n",
        "for token in doc:\n",
        "    print(f\"{token.text:<15}\\t{token.pos_:<10}\\t{spacy.explain(token.pos_)}\")"
      ],
      "metadata": {
        "id": "M-io7IvJWCNH",
        "colab": {
          "base_uri": "https://localhost:8080/"
        },
        "outputId": "f7d54fd7-e7ba-4202-faf2-74f73b48cd9e"
      },
      "execution_count": null,
      "outputs": [
        {
          "output_type": "stream",
          "name": "stdout",
          "text": [
            "PALABRA\t\tPOS\t\tEXPLICACIÓN\n",
            "-------\t\t---\t\t-----------\n",
            "La             \tDET       \tdeterminer\n",
            "CEO            \tPROPN     \tproper noun\n",
            "de             \tADP       \tadposition\n",
            "ACME           \tPROPN     \tproper noun\n",
            ",              \tPUNCT     \tpunctuation\n",
            "Lisa           \tPROPN     \tproper noun\n",
            "Chang          \tPROPN     \tproper noun\n",
            ",              \tPUNCT     \tpunctuation\n",
            "viajará        \tVERB      \tverb\n",
            "a              \tADP       \tadposition\n",
            "México         \tPROPN     \tproper noun\n",
            "para           \tADP       \tadposition\n",
            "supervisar     \tVERB      \tverb\n",
            "los            \tDET       \tdeterminer\n",
            "nuevos         \tADJ       \tadjective\n",
            "proyectos      \tNOUN      \tnoun\n",
            "de             \tADP       \tadposition\n",
            "energía        \tNOUN      \tnoun\n",
            "renovable      \tADJ       \tadjective\n",
            ".              \tPUNCT     \tpunctuation\n",
            "Ella           \tPRON      \tpronoun\n",
            "se             \tPRON      \tpronoun\n",
            "mostró         \tVERB      \tverb\n",
            "muy            \tADV       \tadverb\n",
            "entusiasmada   \tADJ       \tadjective\n",
            ".              \tPUNCT     \tpunctuation\n"
          ]
        }
      ]
    }
  ]
}