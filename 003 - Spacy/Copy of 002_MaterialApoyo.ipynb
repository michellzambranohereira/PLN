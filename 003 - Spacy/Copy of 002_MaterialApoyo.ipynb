{
  "nbformat": 4,
  "nbformat_minor": 0,
  "metadata": {
    "colab": {
      "provenance": []
    },
    "kernelspec": {
      "name": "python3",
      "display_name": "Python 3"
    },
    "language_info": {
      "name": "python"
    }
  },
  "cells": [
    {
      "cell_type": "code",
      "execution_count": null,
      "metadata": {
        "id": "uQ8AMAfnEw0R"
      },
      "outputs": [],
      "source": [
        "!pip install spacy  watermark -q"
      ]
    },
    {
      "cell_type": "code",
      "source": [
        "!python -m spacy download es_core_news_lg -q"
      ],
      "metadata": {
        "id": "EyxEvLatFRSp"
      },
      "execution_count": null,
      "outputs": []
    },
    {
      "cell_type": "code",
      "source": [
        "import spacy\n",
        "from spacy import displacy"
      ],
      "metadata": {
        "id": "W5dIX-AkFgTs"
      },
      "execution_count": null,
      "outputs": []
    },
    {
      "cell_type": "markdown",
      "source": [
        "## Script: Pipeline de Spacy en Español\n",
        "Paso 1: Cargando el modelo 'es_core_news_sm'"
      ],
      "metadata": {
        "id": "40ufcLDbGvY9"
      }
    },
    {
      "cell_type": "code",
      "source": [
        "nlp = spacy.load(\"es_core_news_lg\")\n",
        "import es_core_news_lg\n",
        "nlp = es_core_news_lg.load()"
      ],
      "metadata": {
        "id": "nq6jJZ9yFj1P"
      },
      "execution_count": null,
      "outputs": []
    },
    {
      "cell_type": "markdown",
      "source": [
        "Texto de ejemplo"
      ],
      "metadata": {
        "id": "G86q7iqWG88t"
      }
    },
    {
      "cell_type": "code",
      "source": [
        "texto_ejemplo = \"La empresa española TechSolutions S.L. abrirá una nueva sede en Argentina el próximo año.\""
      ],
      "metadata": {
        "id": "8wLtLZKFFs1u"
      },
      "execution_count": null,
      "outputs": []
    },
    {
      "cell_type": "markdown",
      "source": [
        "Procesando el texto con el pipeline de Spacy"
      ],
      "metadata": {
        "id": "BeB9CXRxHH6p"
      }
    },
    {
      "cell_type": "code",
      "source": [
        "doc = nlp(texto_ejemplo)"
      ],
      "metadata": {
        "id": "knqFQeM-F2WY"
      },
      "execution_count": null,
      "outputs": []
    },
    {
      "cell_type": "markdown",
      "source": [
        "Tokenizacion"
      ],
      "metadata": {
        "id": "9Prl5sotHfTK"
      }
    },
    {
      "cell_type": "code",
      "source": [
        "tokens = [token.text for token in doc]\n",
        "print(tokens)"
      ],
      "metadata": {
        "id": "HIiDpkP8F3U9"
      },
      "execution_count": null,
      "outputs": []
    },
    {
      "cell_type": "markdown",
      "source": [
        "Lematización:\n",
        "Forma base (lema) de cada token"
      ],
      "metadata": {
        "id": "B4-j9ehZH9_I"
      }
    },
    {
      "cell_type": "code",
      "source": [
        "for token in doc:\n",
        "    # Ignoramos puntuación y espacios para mayor claridad\n",
        "    if not token.is_punct and not token.is_space:\n",
        "        print(f\"'{token.text}' -> '{token.lemma_}'\")"
      ],
      "metadata": {
        "id": "8y84p70kGG2I"
      },
      "execution_count": null,
      "outputs": []
    },
    {
      "cell_type": "markdown",
      "source": [
        "Etiquetado Gramatical (POS Tagging):"
      ],
      "metadata": {
        "id": "Q88ed7RTIEjW"
      }
    },
    {
      "cell_type": "code",
      "source": [
        "for token in doc:\n",
        "    if not token.is_space: # Ignoramos espacios\n",
        "        print(f\"'{token.text}' -> {token.pos_} ({spacy.explain(token.pos_)}) -> {token.tag_}\")"
      ],
      "metadata": {
        "id": "SmoYbAiZGQt6"
      },
      "execution_count": null,
      "outputs": []
    },
    {
      "cell_type": "markdown",
      "source": [
        "Análisis de Dependencias Sintácticas:\n",
        "Token -> Relación de Dependencia (dep_) -> Cabeza (head)\""
      ],
      "metadata": {
        "id": "tAniC-mRILV4"
      }
    },
    {
      "cell_type": "code",
      "source": [
        "for token in doc:\n",
        "     if not token.is_space:\n",
        "        print(f\"'{token.text}' -> {token.dep_} ({spacy.explain(token.dep_)}) -> '{token.head.text}'\")"
      ],
      "metadata": {
        "id": "8IhQAYFlGYwe"
      },
      "execution_count": null,
      "outputs": []
    },
    {
      "cell_type": "code",
      "source": [
        "displacy.render(doc, style='dep', jupyter=True, options={'distance': 120})"
      ],
      "metadata": {
        "id": "MjrJukjXIkX2"
      },
      "execution_count": null,
      "outputs": []
    },
    {
      "cell_type": "markdown",
      "source": [
        "Reconocimiento de Entidades Nombradas (NER):"
      ],
      "metadata": {
        "id": "iMtmapuZITFB"
      }
    },
    {
      "cell_type": "code",
      "source": [
        "if doc.ents:\n",
        "    print(\"Entidades encontradas:\")\n",
        "    print(\"Texto de la Entidad -> Etiqueta (Tipo)\")\n",
        "    for ent in doc.ents:\n",
        "        print(f\"'{ent.text}' -> {ent.label_} ({spacy.explain(ent.label_)})\")\n",
        "else:\n",
        "    print(\"No se encontraron entidades nombradas en este texto.\")"
      ],
      "metadata": {
        "id": "0dvJWa8eGfjA"
      },
      "execution_count": null,
      "outputs": []
    },
    {
      "cell_type": "code",
      "source": [
        "displacy.render(doc,style='ent',jupyter=True,options={'distance':200})"
      ],
      "metadata": {
        "id": "Jik87nRhI8uH"
      },
      "execution_count": null,
      "outputs": []
    },
    {
      "cell_type": "code",
      "source": [
        "print(nlp.pipe_names)"
      ],
      "metadata": {
        "id": "NptfWKWAGmkx"
      },
      "execution_count": null,
      "outputs": []
    },
    {
      "cell_type": "markdown",
      "source": [
        "## EJEMPLO DIDACTICO"
      ],
      "metadata": {
        "id": "9MSd-WkZKyAw"
      }
    },
    {
      "cell_type": "code",
      "source": [
        "from collections import Counter"
      ],
      "metadata": {
        "id": "_2b8hXj8K7Os"
      },
      "execution_count": null,
      "outputs": []
    },
    {
      "cell_type": "code",
      "source": [
        "wiki_txt = \"\"\"\n",
        "La fotosíntesis es el proceso químico fundamental mediante el cual las plantas verdes,\n",
        "algas y algunas bacterias convierten la energía lumínica del sol en energía química.\n",
        "Utilizan dióxido de carbono del aire y agua del suelo para producir glucosa,\n",
        "su alimento principal, liberando oxígeno como subproducto. La clorofila,\n",
        "un pigmento verde en los cloroplastos, es crucial para capturar esta energía solar.\n",
        "Este proceso sustenta casi toda la vida en la Tierra.\n",
        "\"\"\""
      ],
      "metadata": {
        "id": "RDeDwZJMLAex"
      },
      "execution_count": null,
      "outputs": []
    },
    {
      "cell_type": "code",
      "source": [
        "print(f\"'{wiki_txt[:150]}...'\") # Muestra un fragmento"
      ],
      "metadata": {
        "id": "RGbmvR5rLFoU"
      },
      "execution_count": null,
      "outputs": []
    },
    {
      "cell_type": "code",
      "source": [
        "doc = nlp(wiki_txt)\n",
        "print(\"¡Texto procesado!\")"
      ],
      "metadata": {
        "id": "u_LcueqHLMqF"
      },
      "execution_count": null,
      "outputs": []
    },
    {
      "cell_type": "markdown",
      "source": [
        "Extracción y filtrando de palabras clave (lemas)"
      ],
      "metadata": {
        "id": "fqm269EsLdhB"
      }
    },
    {
      "cell_type": "code",
      "source": [
        "palabras_clave = []\n",
        "for token in doc:\n",
        "    if token.is_alpha and not token.is_stop:\n",
        "      # Normalización: Obtener lema y convertir a minúsculas\n",
        "      palabras_clave.append(token.lemma_.lower())\n",
        "\n",
        "print(f\"Se extrajeron {len(palabras_clave)} palabras clave (lemas, sin stop words).\")\n",
        "# Ejemplo de las primeras palabras extraídas:\n",
        "print(f\"Ejemplo: {palabras_clave[:15]}\")"
      ],
      "metadata": {
        "id": "fvPYwoftLV-z"
      },
      "execution_count": null,
      "outputs": []
    },
    {
      "cell_type": "code",
      "source": [
        "frecuencia_palabras = Counter(palabras_clave)"
      ],
      "metadata": {
        "id": "tB2kXMPXLwEu"
      },
      "execution_count": null,
      "outputs": []
    },
    {
      "cell_type": "code",
      "source": [
        "N = 15\n",
        "palabras_mas_comunes = frecuencia_palabras.most_common(N)"
      ],
      "metadata": {
        "id": "xUjcO7wAL3xo"
      },
      "execution_count": null,
      "outputs": []
    },
    {
      "cell_type": "code",
      "source": [
        "for palabra, frecuencia in palabras_mas_comunes:\n",
        "    print(f\"- '{palabra}' : {frecuencia}\")"
      ],
      "metadata": {
        "id": "ryvKlyhcL8Bn"
      },
      "execution_count": null,
      "outputs": []
    },
    {
      "cell_type": "code",
      "source": [
        "from wordcloud import WordCloud\n",
        "import matplotlib.pyplot as plt"
      ],
      "metadata": {
        "id": "0ejmHTnZMLVL"
      },
      "execution_count": null,
      "outputs": []
    },
    {
      "cell_type": "code",
      "source": [
        "wordcloud_generator = WordCloud(\n",
        "    width=800,\n",
        "    height=400,\n",
        "    background_color='white',\n",
        "    colormap='viridis', # Paleta de colores\n",
        "    max_words=50,      # Mostrar máximo 50 palabras\n",
        "    stopwords=None,    # Ya filtramos stop words antes\n",
        "    collocations=False # Evitar que agrupe palabras (ej. \"dióxido carbono\")\n",
        "                       # Si se quisiera, sería mejor hacerlo antes con Spacy/N-gramas\n",
        ").generate_from_frequencies(frecuencia_palabras) # <-- Usar las frecuencias calculadas"
      ],
      "metadata": {
        "id": "iP7xehE6MSC6"
      },
      "execution_count": null,
      "outputs": []
    },
    {
      "cell_type": "code",
      "source": [
        "plt.figure(figsize=(10, 5)) # Tamaño de la figura donde se mostrará\n",
        "plt.imshow(wordcloud_generator, interpolation='bilinear') # Mostrar la imagen generada\n",
        "plt.axis(\"off\") # No mostrar los ejes X e Y\n",
        "plt.tight_layout(pad=0) # Ajustar para que no haya bordes extra\n",
        "plt.show() # <-- ¡Mostrar la ventana con la nube!"
      ],
      "metadata": {
        "id": "-KTmCKVtMX6K"
      },
      "execution_count": null,
      "outputs": []
    }
  ]
}
