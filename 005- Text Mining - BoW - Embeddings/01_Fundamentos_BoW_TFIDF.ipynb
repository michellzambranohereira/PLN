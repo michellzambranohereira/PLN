{
  "cells": [
    {
      "cell_type": "markdown",
      "metadata": {
        "id": "uy_qPQ6epjlD"
      },
      "source": [
        "# Cuaderno Clase PLN - Representación de Texto (BoW y TF-IDF)\n",
        "\n",
        "**Objetivos:**\n",
        "*   Repasar el concepto de Bag-of-Words (BoW).\n",
        "*   Implementar BoW usando `CountVectorizer` de Scikit-learn.\n",
        "*   Entender la necesidad de ponderar palabras: Introducción a TF-IDF.\n",
        "*   Implementar TF-IDF usando `TfidfVectorizer` de Scikit-learn.\n",
        "*   Comparar las representaciones BoW y TF-IDF.\n",
        "*   Reflexionar sobre las limitaciones y próximos pasos.\n",
        "\n",
        "**Agenda:**\n",
        "1.  Instalaciones e Importaciones\n",
        "2.  Preparación de Datos: Preprocesamiento (Reutilizando lo del martes)\n",
        "3.  Bag-of-Words (BoW) con Scikit-learn (`CountVectorizer`)\n",
        "4.  ¿Por qué BoW no es suficiente? Introducción a TF-IDF\n",
        "5.  TF-IDF con Scikit-learn (`TfidfVectorizer`)\n",
        "6.  Comparando BoW y TF-IDF\n",
        "7.  Micro-Laboratorio (Ejercicio Práctico)\n",
        "8.  Brainstorming"
      ]
    },
    {
      "cell_type": "markdown",
      "metadata": {
        "id": "wfFKmQ_DqGHn"
      },
      "source": [
        "# 1. Instalaciones e Importaciones"
      ]
    },
    {
      "cell_type": "code",
      "execution_count": null,
      "metadata": {
        "id": "JWLziqyXqF3l"
      },
      "outputs": [],
      "source": [
        "# Instalar si es necesario (sklearn suele venir en Colab)\n",
        "# !pip install scikit-learn nltk spacy pandas > /dev/null # Pandas para mostrar matrices fácil\n",
        "# !python -m spacy download es_core_news_sm > /dev/null\n",
        "\n",
        "# Importaciones\n",
        "import nltk\n",
        "import spacy\n",
        "import re\n",
        "import string\n",
        "import pandas as pd # Para DataFrames"
      ]
    },
    {
      "cell_type": "code",
      "execution_count": null,
      "metadata": {
        "id": "bv6umlcZqVxd"
      },
      "outputs": [],
      "source": [
        "from sklearn.feature_extraction.text import CountVectorizer, TfidfVectorizer"
      ]
    },
    {
      "cell_type": "code",
      "execution_count": null,
      "metadata": {
        "colab": {
          "base_uri": "https://localhost:8080/"
        },
        "id": "cF9_8Jhtqavw",
        "outputId": "c3bf9050-c52b-4b28-95a5-39287e5e421a"
      },
      "outputs": [
        {
          "output_type": "stream",
          "name": "stdout",
          "text": [
            "Modelo de spaCy 'es_core_news_sm' cargado.\n"
          ]
        }
      ],
      "source": [
        "!python -m spacy download es_core_news_sm > /dev/null\n",
        "nlp = spacy.load('es_core_news_sm')\n",
        "print(\"Modelo de spaCy 'es_core_news_sm' cargado.\")"
      ]
    },
    {
      "cell_type": "code",
      "execution_count": null,
      "metadata": {
        "colab": {
          "base_uri": "https://localhost:8080/"
        },
        "id": "n-YQIwA2qzpg",
        "outputId": "f9213eb1-28f5-469d-c336-419720449e67"
      },
      "outputs": [
        {
          "output_type": "stream",
          "name": "stdout",
          "text": [
            "\n",
            "Usando 313 stopwords de NLTK.\n"
          ]
        },
        {
          "output_type": "stream",
          "name": "stderr",
          "text": [
            "[nltk_data] Downloading package stopwords to /root/nltk_data...\n",
            "[nltk_data]   Unzipping corpora/stopwords.zip.\n"
          ]
        }
      ],
      "source": [
        "nltk.download('stopwords')\n",
        "stopwords_es = nltk.corpus.stopwords.words('spanish')\n",
        "\n",
        "print(f\"\\nUsando {len(stopwords_es)} stopwords de NLTK.\")"
      ]
    },
    {
      "cell_type": "markdown",
      "metadata": {
        "id": "neS6qXmGrBos"
      },
      "source": [
        "# 2. Preparación de Datos: Preprocesamiento\n",
        "\n",
        "Para usar `CountVectorizer` y `TfidfVectorizer`, necesitamos nuestros textos como una lista de strings, donde cada string contiene los tokens (o lemas) relevantes unidos por espacios.\n",
        "\n",
        "Vamos a reutilizar la función de lematización con spaCy de la clase pasada, ya que generalmente es preferible."
      ]
    },
    {
      "cell_type": "code",
      "execution_count": null,
      "metadata": {
        "id": "CIw-NNfCrCP-"
      },
      "outputs": [],
      "source": [
        "# Función de preprocesamiento (lematización con spaCy)\n",
        "def preprocesar_texto_para_vectorizar(texto):\n",
        "  # Limpieza básica\n",
        "  texto = texto.lower()\n",
        "  texto = re.sub(r'\\d+', '', texto)\n",
        "  texto = texto.translate(str.maketrans(string.punctuation + '¡¿', ' ' * len(string.punctuation + '¡¿')))\n",
        "  texto = re.sub(r'\\s+', ' ', texto).strip()\n",
        "  # Lematización y filtrado con spaCy\n",
        "  doc = nlp(texto)\n",
        "  lemas = [token.lemma_ for token in doc if token.is_alpha and not token.is_stop]\n",
        "  # Unir lemas en un solo string\n",
        "  return \" \".join(lemas)"
      ]
    },
    {
      "cell_type": "code",
      "execution_count": null,
      "metadata": {
        "id": "yDy_fAndrMc6"
      },
      "outputs": [],
      "source": [
        "# Nuestro dataset de ejemplo (puede ser el mismo de las reviews o uno nuevo)\n",
        "documentos = [\n",
        "    \"El sol brilla y los pájaros cantan alegremente.\",\n",
        "    \"La inteligencia artificial transforma el mundo rápidamente.\",\n",
        "    \"Me encanta el análisis de datos y el machine learning.\",\n",
        "    \"Los pájaros azules cantan en mi ventana.\",\n",
        "    \"La inteligencia artificial es un campo fascinante.\"\n",
        "]"
      ]
    },
    {
      "cell_type": "code",
      "execution_count": null,
      "metadata": {
        "id": "6T3Va2r9rUar"
      },
      "outputs": [],
      "source": [
        "# Preprocesar todos los documentos\n",
        "documentos_preprocesados = [preprocesar_texto_para_vectorizar(doc) for doc in documentos]"
      ]
    },
    {
      "cell_type": "code",
      "execution_count": null,
      "metadata": {
        "colab": {
          "base_uri": "https://localhost:8080/"
        },
        "id": "xqtEnl3LrYor",
        "outputId": "7e8bda40-9f52-4c02-99fa-44a2ba0c732a"
      },
      "outputs": [
        {
          "output_type": "stream",
          "name": "stdout",
          "text": [
            "Documentos Originales:\n",
            "- El sol brilla y los pájaros cantan alegremente.\n",
            "- La inteligencia artificial transforma el mundo rápidamente.\n",
            "- Me encanta el análisis de datos y el machine learning.\n",
            "- Los pájaros azules cantan en mi ventana.\n",
            "- La inteligencia artificial es un campo fascinante.\n"
          ]
        }
      ],
      "source": [
        "print(\"Documentos Originales:\")\n",
        "for doc in documentos:\n",
        "  print(f\"- {doc}\")"
      ]
    },
    {
      "cell_type": "code",
      "execution_count": null,
      "metadata": {
        "colab": {
          "base_uri": "https://localhost:8080/"
        },
        "id": "VNL-md4brapl",
        "outputId": "20816f3d-021d-49d2-ff08-f1473e1af750"
      },
      "outputs": [
        {
          "output_type": "stream",
          "name": "stdout",
          "text": [
            "\n",
            "Documentos Preprocesados (lemas unidos):\n",
            "- sol brilla pájaro cantar alegremente\n",
            "- inteligencia artificial transformar mundo rápidamente\n",
            "- encantar análisis dato machine learning\n",
            "- pájaro azul cantar ventana\n",
            "- inteligencia artificial campo fascinante\n"
          ]
        }
      ],
      "source": [
        "print(\"\\nDocumentos Preprocesados (lemas unidos):\")\n",
        "for doc_proc in documentos_preprocesados:\n",
        "  print(f\"- {doc_proc}\")"
      ]
    },
    {
      "cell_type": "markdown",
      "metadata": {
        "id": "2bwpzaIxrgJg"
      },
      "source": [
        "# 3. Bag-of-Words (BoW) con Scikit-learn (`CountVectorizer`)\n",
        "\n",
        "**Recordatorio:** BoW representa cada documento como un vector de conteos de palabras. Ignora el orden, solo importa cuántas veces aparece cada palabra del vocabulario total.\n",
        "\n",
        "Scikit-learn nos facilita esto con `CountVectorizer`.\n",
        "\n",
        "**Pasos:**\n",
        "1.  **Instanciar:** Crear un objeto `CountVectorizer`.\n",
        "2.  **Ajustar (Fit):** Aprender el vocabulario de nuestros documentos preprocesados (`fit()`).\n",
        "3.  **Transformar (Transform):** Crear la matriz Documento-Término donde cada celda (i, j) tiene el conteo del término j en el documento i (`transform()`).\n",
        "    *   Podemos hacer `fit()` y `transform()` en un solo paso con `fit_transform()`."
      ]
    },
    {
      "cell_type": "code",
      "execution_count": null,
      "metadata": {
        "id": "A5DQgPUprg9D"
      },
      "outputs": [],
      "source": [
        "# 1. Instanciar CountVectorizer\n",
        "vectorizer_bow = CountVectorizer()"
      ]
    },
    {
      "cell_type": "code",
      "execution_count": null,
      "metadata": {
        "id": "A5sYSsKMruCI"
      },
      "outputs": [],
      "source": [
        "# 2. Ajustar y transformar\n",
        "bow_matrix = vectorizer_bow.fit_transform(documentos_preprocesados)"
      ]
    },
    {
      "cell_type": "code",
      "execution_count": null,
      "metadata": {
        "colab": {
          "base_uri": "https://localhost:8080/"
        },
        "id": "moleIM4nrwRH",
        "outputId": "7f055916-ba20-4bb1-f140-a2d924a28aec"
      },
      "outputs": [
        {
          "output_type": "stream",
          "name": "stdout",
          "text": [
            "Vocabulario aprendido:\n",
            "['alegremente' 'análisis' 'artificial' 'azul' 'brilla' 'campo' 'cantar'\n",
            " 'dato' 'encantar' 'fascinante' 'inteligencia' 'learning' 'machine'\n",
            " 'mundo' 'pájaro' 'rápidamente' 'sol' 'transformar' 'ventana']\n",
            "\n",
            "Tamaño del vocabulario: 19\n"
          ]
        }
      ],
      "source": [
        "# Ver el vocabulario aprendido (las columnas de la matriz)\n",
        "vocabulario = vectorizer_bow.get_feature_names_out()\n",
        "print(\"Vocabulario aprendido:\")\n",
        "print(vocabulario)\n",
        "print(f\"\\nTamaño del vocabulario: {len(vocabulario)}\")"
      ]
    },
    {
      "cell_type": "code",
      "execution_count": null,
      "metadata": {
        "colab": {
          "base_uri": "https://localhost:8080/",
          "height": 261
        },
        "id": "ywEQE6t5r4IM",
        "outputId": "1bf15b9a-f823-40d1-f25c-2cb217a52b45"
      },
      "outputs": [
        {
          "output_type": "stream",
          "name": "stdout",
          "text": [
            "\n",
            "Matriz Bag-of-Words (Documento-Término):\n"
          ]
        },
        {
          "output_type": "execute_result",
          "data": {
            "text/plain": [
              "       alegremente  análisis  artificial  azul  brilla  campo  cantar  dato  \\\n",
              "Doc_1            1         0           0     0       1      0       1     0   \n",
              "Doc_2            0         0           1     0       0      0       0     0   \n",
              "Doc_3            0         1           0     0       0      0       0     1   \n",
              "Doc_4            0         0           0     1       0      0       1     0   \n",
              "Doc_5            0         0           1     0       0      1       0     0   \n",
              "\n",
              "       encantar  fascinante  inteligencia  learning  machine  mundo  pájaro  \\\n",
              "Doc_1         0           0             0         0        0      0       1   \n",
              "Doc_2         0           0             1         0        0      1       0   \n",
              "Doc_3         1           0             0         1        1      0       0   \n",
              "Doc_4         0           0             0         0        0      0       1   \n",
              "Doc_5         0           1             1         0        0      0       0   \n",
              "\n",
              "       rápidamente  sol  transformar  ventana  \n",
              "Doc_1            0    1            0        0  \n",
              "Doc_2            1    0            1        0  \n",
              "Doc_3            0    0            0        0  \n",
              "Doc_4            0    0            0        1  \n",
              "Doc_5            0    0            0        0  "
            ],
            "text/html": [
              "\n",
              "  <div id=\"df-2a28091c-66b8-4999-9756-332d9e8ba3bb\" class=\"colab-df-container\">\n",
              "    <div>\n",
              "<style scoped>\n",
              "    .dataframe tbody tr th:only-of-type {\n",
              "        vertical-align: middle;\n",
              "    }\n",
              "\n",
              "    .dataframe tbody tr th {\n",
              "        vertical-align: top;\n",
              "    }\n",
              "\n",
              "    .dataframe thead th {\n",
              "        text-align: right;\n",
              "    }\n",
              "</style>\n",
              "<table border=\"1\" class=\"dataframe\">\n",
              "  <thead>\n",
              "    <tr style=\"text-align: right;\">\n",
              "      <th></th>\n",
              "      <th>alegremente</th>\n",
              "      <th>análisis</th>\n",
              "      <th>artificial</th>\n",
              "      <th>azul</th>\n",
              "      <th>brilla</th>\n",
              "      <th>campo</th>\n",
              "      <th>cantar</th>\n",
              "      <th>dato</th>\n",
              "      <th>encantar</th>\n",
              "      <th>fascinante</th>\n",
              "      <th>inteligencia</th>\n",
              "      <th>learning</th>\n",
              "      <th>machine</th>\n",
              "      <th>mundo</th>\n",
              "      <th>pájaro</th>\n",
              "      <th>rápidamente</th>\n",
              "      <th>sol</th>\n",
              "      <th>transformar</th>\n",
              "      <th>ventana</th>\n",
              "    </tr>\n",
              "  </thead>\n",
              "  <tbody>\n",
              "    <tr>\n",
              "      <th>Doc_1</th>\n",
              "      <td>1</td>\n",
              "      <td>0</td>\n",
              "      <td>0</td>\n",
              "      <td>0</td>\n",
              "      <td>1</td>\n",
              "      <td>0</td>\n",
              "      <td>1</td>\n",
              "      <td>0</td>\n",
              "      <td>0</td>\n",
              "      <td>0</td>\n",
              "      <td>0</td>\n",
              "      <td>0</td>\n",
              "      <td>0</td>\n",
              "      <td>0</td>\n",
              "      <td>1</td>\n",
              "      <td>0</td>\n",
              "      <td>1</td>\n",
              "      <td>0</td>\n",
              "      <td>0</td>\n",
              "    </tr>\n",
              "    <tr>\n",
              "      <th>Doc_2</th>\n",
              "      <td>0</td>\n",
              "      <td>0</td>\n",
              "      <td>1</td>\n",
              "      <td>0</td>\n",
              "      <td>0</td>\n",
              "      <td>0</td>\n",
              "      <td>0</td>\n",
              "      <td>0</td>\n",
              "      <td>0</td>\n",
              "      <td>0</td>\n",
              "      <td>1</td>\n",
              "      <td>0</td>\n",
              "      <td>0</td>\n",
              "      <td>1</td>\n",
              "      <td>0</td>\n",
              "      <td>1</td>\n",
              "      <td>0</td>\n",
              "      <td>1</td>\n",
              "      <td>0</td>\n",
              "    </tr>\n",
              "    <tr>\n",
              "      <th>Doc_3</th>\n",
              "      <td>0</td>\n",
              "      <td>1</td>\n",
              "      <td>0</td>\n",
              "      <td>0</td>\n",
              "      <td>0</td>\n",
              "      <td>0</td>\n",
              "      <td>0</td>\n",
              "      <td>1</td>\n",
              "      <td>1</td>\n",
              "      <td>0</td>\n",
              "      <td>0</td>\n",
              "      <td>1</td>\n",
              "      <td>1</td>\n",
              "      <td>0</td>\n",
              "      <td>0</td>\n",
              "      <td>0</td>\n",
              "      <td>0</td>\n",
              "      <td>0</td>\n",
              "      <td>0</td>\n",
              "    </tr>\n",
              "    <tr>\n",
              "      <th>Doc_4</th>\n",
              "      <td>0</td>\n",
              "      <td>0</td>\n",
              "      <td>0</td>\n",
              "      <td>1</td>\n",
              "      <td>0</td>\n",
              "      <td>0</td>\n",
              "      <td>1</td>\n",
              "      <td>0</td>\n",
              "      <td>0</td>\n",
              "      <td>0</td>\n",
              "      <td>0</td>\n",
              "      <td>0</td>\n",
              "      <td>0</td>\n",
              "      <td>0</td>\n",
              "      <td>1</td>\n",
              "      <td>0</td>\n",
              "      <td>0</td>\n",
              "      <td>0</td>\n",
              "      <td>1</td>\n",
              "    </tr>\n",
              "    <tr>\n",
              "      <th>Doc_5</th>\n",
              "      <td>0</td>\n",
              "      <td>0</td>\n",
              "      <td>1</td>\n",
              "      <td>0</td>\n",
              "      <td>0</td>\n",
              "      <td>1</td>\n",
              "      <td>0</td>\n",
              "      <td>0</td>\n",
              "      <td>0</td>\n",
              "      <td>1</td>\n",
              "      <td>1</td>\n",
              "      <td>0</td>\n",
              "      <td>0</td>\n",
              "      <td>0</td>\n",
              "      <td>0</td>\n",
              "      <td>0</td>\n",
              "      <td>0</td>\n",
              "      <td>0</td>\n",
              "      <td>0</td>\n",
              "    </tr>\n",
              "  </tbody>\n",
              "</table>\n",
              "</div>\n",
              "    <div class=\"colab-df-buttons\">\n",
              "\n",
              "  <div class=\"colab-df-container\">\n",
              "    <button class=\"colab-df-convert\" onclick=\"convertToInteractive('df-2a28091c-66b8-4999-9756-332d9e8ba3bb')\"\n",
              "            title=\"Convert this dataframe to an interactive table.\"\n",
              "            style=\"display:none;\">\n",
              "\n",
              "  <svg xmlns=\"http://www.w3.org/2000/svg\" height=\"24px\" viewBox=\"0 -960 960 960\">\n",
              "    <path d=\"M120-120v-720h720v720H120Zm60-500h600v-160H180v160Zm220 220h160v-160H400v160Zm0 220h160v-160H400v160ZM180-400h160v-160H180v160Zm440 0h160v-160H620v160ZM180-180h160v-160H180v160Zm440 0h160v-160H620v160Z\"/>\n",
              "  </svg>\n",
              "    </button>\n",
              "\n",
              "  <style>\n",
              "    .colab-df-container {\n",
              "      display:flex;\n",
              "      gap: 12px;\n",
              "    }\n",
              "\n",
              "    .colab-df-convert {\n",
              "      background-color: #E8F0FE;\n",
              "      border: none;\n",
              "      border-radius: 50%;\n",
              "      cursor: pointer;\n",
              "      display: none;\n",
              "      fill: #1967D2;\n",
              "      height: 32px;\n",
              "      padding: 0 0 0 0;\n",
              "      width: 32px;\n",
              "    }\n",
              "\n",
              "    .colab-df-convert:hover {\n",
              "      background-color: #E2EBFA;\n",
              "      box-shadow: 0px 1px 2px rgba(60, 64, 67, 0.3), 0px 1px 3px 1px rgba(60, 64, 67, 0.15);\n",
              "      fill: #174EA6;\n",
              "    }\n",
              "\n",
              "    .colab-df-buttons div {\n",
              "      margin-bottom: 4px;\n",
              "    }\n",
              "\n",
              "    [theme=dark] .colab-df-convert {\n",
              "      background-color: #3B4455;\n",
              "      fill: #D2E3FC;\n",
              "    }\n",
              "\n",
              "    [theme=dark] .colab-df-convert:hover {\n",
              "      background-color: #434B5C;\n",
              "      box-shadow: 0px 1px 3px 1px rgba(0, 0, 0, 0.15);\n",
              "      filter: drop-shadow(0px 1px 2px rgba(0, 0, 0, 0.3));\n",
              "      fill: #FFFFFF;\n",
              "    }\n",
              "  </style>\n",
              "\n",
              "    <script>\n",
              "      const buttonEl =\n",
              "        document.querySelector('#df-2a28091c-66b8-4999-9756-332d9e8ba3bb button.colab-df-convert');\n",
              "      buttonEl.style.display =\n",
              "        google.colab.kernel.accessAllowed ? 'block' : 'none';\n",
              "\n",
              "      async function convertToInteractive(key) {\n",
              "        const element = document.querySelector('#df-2a28091c-66b8-4999-9756-332d9e8ba3bb');\n",
              "        const dataTable =\n",
              "          await google.colab.kernel.invokeFunction('convertToInteractive',\n",
              "                                                    [key], {});\n",
              "        if (!dataTable) return;\n",
              "\n",
              "        const docLinkHtml = 'Like what you see? Visit the ' +\n",
              "          '<a target=\"_blank\" href=https://colab.research.google.com/notebooks/data_table.ipynb>data table notebook</a>'\n",
              "          + ' to learn more about interactive tables.';\n",
              "        element.innerHTML = '';\n",
              "        dataTable['output_type'] = 'display_data';\n",
              "        await google.colab.output.renderOutput(dataTable, element);\n",
              "        const docLink = document.createElement('div');\n",
              "        docLink.innerHTML = docLinkHtml;\n",
              "        element.appendChild(docLink);\n",
              "      }\n",
              "    </script>\n",
              "  </div>\n",
              "\n",
              "\n",
              "    <div id=\"df-8858c1fe-7279-4468-af93-ecb534031286\">\n",
              "      <button class=\"colab-df-quickchart\" onclick=\"quickchart('df-8858c1fe-7279-4468-af93-ecb534031286')\"\n",
              "                title=\"Suggest charts\"\n",
              "                style=\"display:none;\">\n",
              "\n",
              "<svg xmlns=\"http://www.w3.org/2000/svg\" height=\"24px\"viewBox=\"0 0 24 24\"\n",
              "     width=\"24px\">\n",
              "    <g>\n",
              "        <path d=\"M19 3H5c-1.1 0-2 .9-2 2v14c0 1.1.9 2 2 2h14c1.1 0 2-.9 2-2V5c0-1.1-.9-2-2-2zM9 17H7v-7h2v7zm4 0h-2V7h2v10zm4 0h-2v-4h2v4z\"/>\n",
              "    </g>\n",
              "</svg>\n",
              "      </button>\n",
              "\n",
              "<style>\n",
              "  .colab-df-quickchart {\n",
              "      --bg-color: #E8F0FE;\n",
              "      --fill-color: #1967D2;\n",
              "      --hover-bg-color: #E2EBFA;\n",
              "      --hover-fill-color: #174EA6;\n",
              "      --disabled-fill-color: #AAA;\n",
              "      --disabled-bg-color: #DDD;\n",
              "  }\n",
              "\n",
              "  [theme=dark] .colab-df-quickchart {\n",
              "      --bg-color: #3B4455;\n",
              "      --fill-color: #D2E3FC;\n",
              "      --hover-bg-color: #434B5C;\n",
              "      --hover-fill-color: #FFFFFF;\n",
              "      --disabled-bg-color: #3B4455;\n",
              "      --disabled-fill-color: #666;\n",
              "  }\n",
              "\n",
              "  .colab-df-quickchart {\n",
              "    background-color: var(--bg-color);\n",
              "    border: none;\n",
              "    border-radius: 50%;\n",
              "    cursor: pointer;\n",
              "    display: none;\n",
              "    fill: var(--fill-color);\n",
              "    height: 32px;\n",
              "    padding: 0;\n",
              "    width: 32px;\n",
              "  }\n",
              "\n",
              "  .colab-df-quickchart:hover {\n",
              "    background-color: var(--hover-bg-color);\n",
              "    box-shadow: 0 1px 2px rgba(60, 64, 67, 0.3), 0 1px 3px 1px rgba(60, 64, 67, 0.15);\n",
              "    fill: var(--button-hover-fill-color);\n",
              "  }\n",
              "\n",
              "  .colab-df-quickchart-complete:disabled,\n",
              "  .colab-df-quickchart-complete:disabled:hover {\n",
              "    background-color: var(--disabled-bg-color);\n",
              "    fill: var(--disabled-fill-color);\n",
              "    box-shadow: none;\n",
              "  }\n",
              "\n",
              "  .colab-df-spinner {\n",
              "    border: 2px solid var(--fill-color);\n",
              "    border-color: transparent;\n",
              "    border-bottom-color: var(--fill-color);\n",
              "    animation:\n",
              "      spin 1s steps(1) infinite;\n",
              "  }\n",
              "\n",
              "  @keyframes spin {\n",
              "    0% {\n",
              "      border-color: transparent;\n",
              "      border-bottom-color: var(--fill-color);\n",
              "      border-left-color: var(--fill-color);\n",
              "    }\n",
              "    20% {\n",
              "      border-color: transparent;\n",
              "      border-left-color: var(--fill-color);\n",
              "      border-top-color: var(--fill-color);\n",
              "    }\n",
              "    30% {\n",
              "      border-color: transparent;\n",
              "      border-left-color: var(--fill-color);\n",
              "      border-top-color: var(--fill-color);\n",
              "      border-right-color: var(--fill-color);\n",
              "    }\n",
              "    40% {\n",
              "      border-color: transparent;\n",
              "      border-right-color: var(--fill-color);\n",
              "      border-top-color: var(--fill-color);\n",
              "    }\n",
              "    60% {\n",
              "      border-color: transparent;\n",
              "      border-right-color: var(--fill-color);\n",
              "    }\n",
              "    80% {\n",
              "      border-color: transparent;\n",
              "      border-right-color: var(--fill-color);\n",
              "      border-bottom-color: var(--fill-color);\n",
              "    }\n",
              "    90% {\n",
              "      border-color: transparent;\n",
              "      border-bottom-color: var(--fill-color);\n",
              "    }\n",
              "  }\n",
              "</style>\n",
              "\n",
              "      <script>\n",
              "        async function quickchart(key) {\n",
              "          const quickchartButtonEl =\n",
              "            document.querySelector('#' + key + ' button');\n",
              "          quickchartButtonEl.disabled = true;  // To prevent multiple clicks.\n",
              "          quickchartButtonEl.classList.add('colab-df-spinner');\n",
              "          try {\n",
              "            const charts = await google.colab.kernel.invokeFunction(\n",
              "                'suggestCharts', [key], {});\n",
              "          } catch (error) {\n",
              "            console.error('Error during call to suggestCharts:', error);\n",
              "          }\n",
              "          quickchartButtonEl.classList.remove('colab-df-spinner');\n",
              "          quickchartButtonEl.classList.add('colab-df-quickchart-complete');\n",
              "        }\n",
              "        (() => {\n",
              "          let quickchartButtonEl =\n",
              "            document.querySelector('#df-8858c1fe-7279-4468-af93-ecb534031286 button');\n",
              "          quickchartButtonEl.style.display =\n",
              "            google.colab.kernel.accessAllowed ? 'block' : 'none';\n",
              "        })();\n",
              "      </script>\n",
              "    </div>\n",
              "\n",
              "  <div id=\"id_365d7312-edd6-47aa-b316-289f6b852635\">\n",
              "    <style>\n",
              "      .colab-df-generate {\n",
              "        background-color: #E8F0FE;\n",
              "        border: none;\n",
              "        border-radius: 50%;\n",
              "        cursor: pointer;\n",
              "        display: none;\n",
              "        fill: #1967D2;\n",
              "        height: 32px;\n",
              "        padding: 0 0 0 0;\n",
              "        width: 32px;\n",
              "      }\n",
              "\n",
              "      .colab-df-generate:hover {\n",
              "        background-color: #E2EBFA;\n",
              "        box-shadow: 0px 1px 2px rgba(60, 64, 67, 0.3), 0px 1px 3px 1px rgba(60, 64, 67, 0.15);\n",
              "        fill: #174EA6;\n",
              "      }\n",
              "\n",
              "      [theme=dark] .colab-df-generate {\n",
              "        background-color: #3B4455;\n",
              "        fill: #D2E3FC;\n",
              "      }\n",
              "\n",
              "      [theme=dark] .colab-df-generate:hover {\n",
              "        background-color: #434B5C;\n",
              "        box-shadow: 0px 1px 3px 1px rgba(0, 0, 0, 0.15);\n",
              "        filter: drop-shadow(0px 1px 2px rgba(0, 0, 0, 0.3));\n",
              "        fill: #FFFFFF;\n",
              "      }\n",
              "    </style>\n",
              "    <button class=\"colab-df-generate\" onclick=\"generateWithVariable('bow_df')\"\n",
              "            title=\"Generate code using this dataframe.\"\n",
              "            style=\"display:none;\">\n",
              "\n",
              "  <svg xmlns=\"http://www.w3.org/2000/svg\" height=\"24px\"viewBox=\"0 0 24 24\"\n",
              "       width=\"24px\">\n",
              "    <path d=\"M7,19H8.4L18.45,9,17,7.55,7,17.6ZM5,21V16.75L18.45,3.32a2,2,0,0,1,2.83,0l1.4,1.43a1.91,1.91,0,0,1,.58,1.4,1.91,1.91,0,0,1-.58,1.4L9.25,21ZM18.45,9,17,7.55Zm-12,3A5.31,5.31,0,0,0,4.9,8.1,5.31,5.31,0,0,0,1,6.5,5.31,5.31,0,0,0,4.9,4.9,5.31,5.31,0,0,0,6.5,1,5.31,5.31,0,0,0,8.1,4.9,5.31,5.31,0,0,0,12,6.5,5.46,5.46,0,0,0,6.5,12Z\"/>\n",
              "  </svg>\n",
              "    </button>\n",
              "    <script>\n",
              "      (() => {\n",
              "      const buttonEl =\n",
              "        document.querySelector('#id_365d7312-edd6-47aa-b316-289f6b852635 button.colab-df-generate');\n",
              "      buttonEl.style.display =\n",
              "        google.colab.kernel.accessAllowed ? 'block' : 'none';\n",
              "\n",
              "      buttonEl.onclick = () => {\n",
              "        google.colab.notebook.generateWithVariable('bow_df');\n",
              "      }\n",
              "      })();\n",
              "    </script>\n",
              "  </div>\n",
              "\n",
              "    </div>\n",
              "  </div>\n"
            ],
            "application/vnd.google.colaboratory.intrinsic+json": {
              "type": "dataframe",
              "variable_name": "bow_df",
              "summary": "{\n  \"name\": \"bow_df\",\n  \"rows\": 5,\n  \"fields\": [\n    {\n      \"column\": \"alegremente\",\n      \"properties\": {\n        \"dtype\": \"number\",\n        \"std\": 0,\n        \"min\": 0,\n        \"max\": 1,\n        \"num_unique_values\": 2,\n        \"samples\": [\n          0,\n          1\n        ],\n        \"semantic_type\": \"\",\n        \"description\": \"\"\n      }\n    },\n    {\n      \"column\": \"an\\u00e1lisis\",\n      \"properties\": {\n        \"dtype\": \"number\",\n        \"std\": 0,\n        \"min\": 0,\n        \"max\": 1,\n        \"num_unique_values\": 2,\n        \"samples\": [\n          1,\n          0\n        ],\n        \"semantic_type\": \"\",\n        \"description\": \"\"\n      }\n    },\n    {\n      \"column\": \"artificial\",\n      \"properties\": {\n        \"dtype\": \"number\",\n        \"std\": 0,\n        \"min\": 0,\n        \"max\": 1,\n        \"num_unique_values\": 2,\n        \"samples\": [\n          1,\n          0\n        ],\n        \"semantic_type\": \"\",\n        \"description\": \"\"\n      }\n    },\n    {\n      \"column\": \"azul\",\n      \"properties\": {\n        \"dtype\": \"number\",\n        \"std\": 0,\n        \"min\": 0,\n        \"max\": 1,\n        \"num_unique_values\": 2,\n        \"samples\": [\n          1,\n          0\n        ],\n        \"semantic_type\": \"\",\n        \"description\": \"\"\n      }\n    },\n    {\n      \"column\": \"brilla\",\n      \"properties\": {\n        \"dtype\": \"number\",\n        \"std\": 0,\n        \"min\": 0,\n        \"max\": 1,\n        \"num_unique_values\": 2,\n        \"samples\": [\n          0,\n          1\n        ],\n        \"semantic_type\": \"\",\n        \"description\": \"\"\n      }\n    },\n    {\n      \"column\": \"campo\",\n      \"properties\": {\n        \"dtype\": \"number\",\n        \"std\": 0,\n        \"min\": 0,\n        \"max\": 1,\n        \"num_unique_values\": 2,\n        \"samples\": [\n          1,\n          0\n        ],\n        \"semantic_type\": \"\",\n        \"description\": \"\"\n      }\n    },\n    {\n      \"column\": \"cantar\",\n      \"properties\": {\n        \"dtype\": \"number\",\n        \"std\": 0,\n        \"min\": 0,\n        \"max\": 1,\n        \"num_unique_values\": 2,\n        \"samples\": [\n          0,\n          1\n        ],\n        \"semantic_type\": \"\",\n        \"description\": \"\"\n      }\n    },\n    {\n      \"column\": \"dato\",\n      \"properties\": {\n        \"dtype\": \"number\",\n        \"std\": 0,\n        \"min\": 0,\n        \"max\": 1,\n        \"num_unique_values\": 2,\n        \"samples\": [\n          1,\n          0\n        ],\n        \"semantic_type\": \"\",\n        \"description\": \"\"\n      }\n    },\n    {\n      \"column\": \"encantar\",\n      \"properties\": {\n        \"dtype\": \"number\",\n        \"std\": 0,\n        \"min\": 0,\n        \"max\": 1,\n        \"num_unique_values\": 2,\n        \"samples\": [\n          1,\n          0\n        ],\n        \"semantic_type\": \"\",\n        \"description\": \"\"\n      }\n    },\n    {\n      \"column\": \"fascinante\",\n      \"properties\": {\n        \"dtype\": \"number\",\n        \"std\": 0,\n        \"min\": 0,\n        \"max\": 1,\n        \"num_unique_values\": 2,\n        \"samples\": [\n          1,\n          0\n        ],\n        \"semantic_type\": \"\",\n        \"description\": \"\"\n      }\n    },\n    {\n      \"column\": \"inteligencia\",\n      \"properties\": {\n        \"dtype\": \"number\",\n        \"std\": 0,\n        \"min\": 0,\n        \"max\": 1,\n        \"num_unique_values\": 2,\n        \"samples\": [\n          1,\n          0\n        ],\n        \"semantic_type\": \"\",\n        \"description\": \"\"\n      }\n    },\n    {\n      \"column\": \"learning\",\n      \"properties\": {\n        \"dtype\": \"number\",\n        \"std\": 0,\n        \"min\": 0,\n        \"max\": 1,\n        \"num_unique_values\": 2,\n        \"samples\": [\n          1,\n          0\n        ],\n        \"semantic_type\": \"\",\n        \"description\": \"\"\n      }\n    },\n    {\n      \"column\": \"machine\",\n      \"properties\": {\n        \"dtype\": \"number\",\n        \"std\": 0,\n        \"min\": 0,\n        \"max\": 1,\n        \"num_unique_values\": 2,\n        \"samples\": [\n          1,\n          0\n        ],\n        \"semantic_type\": \"\",\n        \"description\": \"\"\n      }\n    },\n    {\n      \"column\": \"mundo\",\n      \"properties\": {\n        \"dtype\": \"number\",\n        \"std\": 0,\n        \"min\": 0,\n        \"max\": 1,\n        \"num_unique_values\": 2,\n        \"samples\": [\n          1,\n          0\n        ],\n        \"semantic_type\": \"\",\n        \"description\": \"\"\n      }\n    },\n    {\n      \"column\": \"p\\u00e1jaro\",\n      \"properties\": {\n        \"dtype\": \"number\",\n        \"std\": 0,\n        \"min\": 0,\n        \"max\": 1,\n        \"num_unique_values\": 2,\n        \"samples\": [\n          0,\n          1\n        ],\n        \"semantic_type\": \"\",\n        \"description\": \"\"\n      }\n    },\n    {\n      \"column\": \"r\\u00e1pidamente\",\n      \"properties\": {\n        \"dtype\": \"number\",\n        \"std\": 0,\n        \"min\": 0,\n        \"max\": 1,\n        \"num_unique_values\": 2,\n        \"samples\": [\n          1,\n          0\n        ],\n        \"semantic_type\": \"\",\n        \"description\": \"\"\n      }\n    },\n    {\n      \"column\": \"sol\",\n      \"properties\": {\n        \"dtype\": \"number\",\n        \"std\": 0,\n        \"min\": 0,\n        \"max\": 1,\n        \"num_unique_values\": 2,\n        \"samples\": [\n          0,\n          1\n        ],\n        \"semantic_type\": \"\",\n        \"description\": \"\"\n      }\n    },\n    {\n      \"column\": \"transformar\",\n      \"properties\": {\n        \"dtype\": \"number\",\n        \"std\": 0,\n        \"min\": 0,\n        \"max\": 1,\n        \"num_unique_values\": 2,\n        \"samples\": [\n          1,\n          0\n        ],\n        \"semantic_type\": \"\",\n        \"description\": \"\"\n      }\n    },\n    {\n      \"column\": \"ventana\",\n      \"properties\": {\n        \"dtype\": \"number\",\n        \"std\": 0,\n        \"min\": 0,\n        \"max\": 1,\n        \"num_unique_values\": 2,\n        \"samples\": [\n          1,\n          0\n        ],\n        \"semantic_type\": \"\",\n        \"description\": \"\"\n      }\n    }\n  ]\n}"
            }
          },
          "metadata": {},
          "execution_count": 13
        }
      ],
      "source": [
        "# Ver la matriz BoW (es una matriz dispersa, la convertimos a densa para verla mejor)\n",
        "# Usamos Pandas para que sea más legible\n",
        "bow_df = pd.DataFrame(bow_matrix.toarray(), columns=vocabulario, index=[f\"Doc_{i+1}\" for i in range(len(documentos))])\n",
        "print(\"\\nMatriz Bag-of-Words (Documento-Término):\")\n",
        "bow_df"
      ]
    },
    {
      "cell_type": "markdown",
      "metadata": {
        "id": "04I7b3MPsJTx"
      },
      "source": [
        "# 4. ¿Por qué BoW no es suficiente? Introducción a TF-IDF\n",
        "\n",
        "Observen la matriz BoW. Palabras como \"cantar\" o \"inteligencia\" o \"artificial\" aparecen varias veces. Pero, ¿son todas igual de *importantes* para distinguir un documento de otro?\n",
        "\n",
        "*   \"cantar\" aparece en Doc_1 y Doc_4. Es algo específico.\n",
        "*   \"inteligencia\" y \"artificial\" aparecen juntas en Doc_2 y Doc_5. Parecen definir un tema.\n",
        "*   Otras palabras como \"pájaro\" también aparecen en dos documentos.\n",
        "\n",
        "BoW solo cuenta. **No diferencia entre palabras comunes (en el corpus) y palabras distintivas.**\n",
        "\n",
        "**TF-IDF (Term Frequency - Inverse Document Frequency)** intenta solucionar esto.\n",
        "\n",
        "*   **TF (Frecuencia del Término):** ¿Qué tan frecuente es una palabra *en este documento*? (Similar a BoW, a veces normalizado).\n",
        "*   **IDF (Frecuencia Inversa de Documento):** ¿Qué tan *rara* es la palabra *en toda la colección* de documentos?\n",
        "    *   Palabras que aparecen en muchos documentos (como quizás \"el\", \"la\" si no las quitáramos) tienen IDF bajo (son poco informativas).\n",
        "    *   Palabras que aparecen en pocos documentos tienen IDF alto (son más distintivas).\n",
        "*   **TF-IDF = TF * IDF:** El peso final de una palabra en un documento es alto si es frecuente en ESE documento pero rara en general.\n",
        "\n",
        "**Resultado:** Una matriz Documento-Término similar a BoW, pero con pesos TF-IDF en lugar de conteos crudos."
      ]
    },
    {
      "cell_type": "markdown",
      "metadata": {
        "id": "_w-UyoTuslz0"
      },
      "source": [
        "# 5. TF-IDF con Scikit-learn (`TfidfVectorizer`)\n",
        "\n",
        "Scikit-learn también tiene una clase para esto: `TfidfVectorizer`. Funciona de manera muy similar a `CountVectorizer`.\n",
        "\n",
        "**Pasos:**\n",
        "1.  **Instanciar:** Crear un objeto `TfidfVectorizer`. Podemos pasarle parámetros como `min_df`, `max_df`, `ngram_range` si queremos.\n",
        "2.  **Ajustar y Transformar:** Aprender el vocabulario y calcular los pesos IDF del corpus, y luego transformar los documentos en la matriz TF-IDF (`fit_transform()`)."
      ]
    },
    {
      "cell_type": "code",
      "execution_count": null,
      "metadata": {
        "id": "qWEbd99LsKkG"
      },
      "outputs": [],
      "source": [
        "# 1. Instanciar TfidfVectorizer\n",
        "# Podemos usar los mismos parámetros que CountVectorizer si quisiéramos (ej: min_df, max_df)\n",
        "vectorizer_tfidf = TfidfVectorizer()"
      ]
    },
    {
      "cell_type": "code",
      "execution_count": null,
      "metadata": {
        "id": "lo7GA2-1swQ8"
      },
      "outputs": [],
      "source": [
        "# 2. Ajustar y transformar (usando los mismos documentos preprocesados)\n",
        "tfidf_matrix = vectorizer_tfidf.fit_transform(documentos_preprocesados)"
      ]
    },
    {
      "cell_type": "code",
      "execution_count": null,
      "metadata": {
        "colab": {
          "base_uri": "https://localhost:8080/"
        },
        "id": "EvjGudfksycC",
        "outputId": "fb5051c0-7ad9-49a0-fef3-e25b4a282454"
      },
      "outputs": [
        {
          "output_type": "stream",
          "name": "stdout",
          "text": [
            "Vocabulario (TF-IDF):\n",
            "['alegremente' 'análisis' 'artificial' 'azul' 'brilla' 'campo' 'cantar'\n",
            " 'dato' 'encantar' 'fascinante' 'inteligencia' 'learning' 'machine'\n",
            " 'mundo' 'pájaro' 'rápidamente' 'sol' 'transformar' 'ventana']\n"
          ]
        }
      ],
      "source": [
        "# El vocabulario debería ser el mismo si no usamos parámetros diferentes\n",
        "# ¡Ojo! El orden de las columnas puede cambiar entre vectorizadores si no se fija!\n",
        "# Para comparar fácil, usemos el vocabulario del TF-IDF vectorizer para ambos DFs\n",
        "vocabulario_tfidf = vectorizer_tfidf.get_feature_names_out()\n",
        "print(\"Vocabulario (TF-IDF):\")\n",
        "print(vocabulario_tfidf)"
      ]
    },
    {
      "cell_type": "code",
      "execution_count": null,
      "metadata": {
        "colab": {
          "base_uri": "https://localhost:8080/"
        },
        "id": "ozi2AbmZs5VI",
        "outputId": "21f91ace-6b8c-4eb3-81c0-586994b4d4fb"
      },
      "outputs": [
        {
          "output_type": "stream",
          "name": "stdout",
          "text": [
            "\n",
            "Matriz TF-IDF (Documento-Término):\n",
            "       alegremente  análisis  artificial  azul  brilla  campo  cantar   dato  \\\n",
            "Doc_1        0.482     0.000       0.000  0.00   0.482   0.00   0.389  0.000   \n",
            "Doc_2        0.000     0.000       0.389  0.00   0.000   0.00   0.000  0.000   \n",
            "Doc_3        0.000     0.447       0.000  0.00   0.000   0.00   0.000  0.447   \n",
            "Doc_4        0.000     0.000       0.000  0.55   0.000   0.00   0.444  0.000   \n",
            "Doc_5        0.000     0.000       0.444  0.00   0.000   0.55   0.000  0.000   \n",
            "\n",
            "       encantar  fascinante  inteligencia  learning  machine  mundo  pájaro  \\\n",
            "Doc_1     0.000        0.00         0.000     0.000    0.000  0.000   0.389   \n",
            "Doc_2     0.000        0.00         0.389     0.000    0.000  0.482   0.000   \n",
            "Doc_3     0.447        0.00         0.000     0.447    0.447  0.000   0.000   \n",
            "Doc_4     0.000        0.00         0.000     0.000    0.000  0.000   0.444   \n",
            "Doc_5     0.000        0.55         0.444     0.000    0.000  0.000   0.000   \n",
            "\n",
            "       rápidamente    sol  transformar  ventana  \n",
            "Doc_1        0.000  0.482        0.000     0.00  \n",
            "Doc_2        0.482  0.000        0.482     0.00  \n",
            "Doc_3        0.000  0.000        0.000     0.00  \n",
            "Doc_4        0.000  0.000        0.000     0.55  \n",
            "Doc_5        0.000  0.000        0.000     0.00  \n"
          ]
        }
      ],
      "source": [
        "# Crear DataFrame para TF-IDF\n",
        "tfidf_df = pd.DataFrame(tfidf_matrix.toarray(), columns=vocabulario_tfidf, index=[f\"Doc_{i+1}\" for i in range(len(documentos))])\n",
        "print(\"\\nMatriz TF-IDF (Documento-Término):\")\n",
        "# Redondear para mejor visualización\n",
        "print(tfidf_df.round(3))"
      ]
    },
    {
      "cell_type": "code",
      "execution_count": null,
      "metadata": {
        "id": "ihEDetcKtCr-"
      },
      "outputs": [],
      "source": [
        "# Nota: TfidfVectorizer puede devolver un vocabulario diferente o en orden diferente\n",
        "# si se usan parámetros como min_df/max_df.\n",
        "# Para una comparación directa, podemos re-instanciar CountVectorizer con el\n",
        "# vocabulario aprendido por TfidfVectorizer\n",
        "vectorizer_bow_for_compare = CountVectorizer(vocabulary=vocabulario_tfidf)\n",
        "bow_matrix_for_compare = vectorizer_bow_for_compare.fit_transform(documentos_preprocesados)\n",
        "bow_df_for_compare = pd.DataFrame(bow_matrix_for_compare.toarray(), columns=vocabulario_tfidf, index=[f\"Doc_{i+1}\" for i in range(len(documentos))])"
      ]
    },
    {
      "cell_type": "markdown",
      "metadata": {
        "id": "uBLm08zCtPwH"
      },
      "source": [
        "# 6. Comparando BoW y TF-IDF\n",
        "\n",
        "Ahora veamos las dos matrices juntas (usando el mismo vocabulario y orden de columnas para que sea fácil comparar).\n",
        "\n",
        "Fíjense en cómo cambian los valores para algunas palabras clave."
      ]
    },
    {
      "cell_type": "code",
      "execution_count": null,
      "metadata": {
        "colab": {
          "base_uri": "https://localhost:8080/"
        },
        "id": "nHFJw6Z2tVSB",
        "outputId": "7cd6ee5e-2df6-44ce-9671-56ba6913b005"
      },
      "outputs": [
        {
          "output_type": "stream",
          "name": "stdout",
          "text": [
            "--- Comparación BoW vs TF-IDF ---\n",
            "\n",
            "Matriz Bag-of-Words (Revisada con vocabulario TF-IDF):\n",
            "       alegremente  análisis  artificial  azul  brilla  campo  cantar  dato  \\\n",
            "Doc_1            1         0           0     0       1      0       1     0   \n",
            "Doc_2            0         0           1     0       0      0       0     0   \n",
            "Doc_3            0         1           0     0       0      0       0     1   \n",
            "Doc_4            0         0           0     1       0      0       1     0   \n",
            "Doc_5            0         0           1     0       0      1       0     0   \n",
            "\n",
            "       encantar  fascinante  inteligencia  learning  machine  mundo  pájaro  \\\n",
            "Doc_1         0           0             0         0        0      0       1   \n",
            "Doc_2         0           0             1         0        0      1       0   \n",
            "Doc_3         1           0             0         1        1      0       0   \n",
            "Doc_4         0           0             0         0        0      0       1   \n",
            "Doc_5         0           1             1         0        0      0       0   \n",
            "\n",
            "       rápidamente  sol  transformar  ventana  \n",
            "Doc_1            0    1            0        0  \n",
            "Doc_2            1    0            1        0  \n",
            "Doc_3            0    0            0        0  \n",
            "Doc_4            0    0            0        1  \n",
            "Doc_5            0    0            0        0  \n",
            "\n",
            "Matriz TF-IDF:\n",
            "       alegremente  análisis  artificial  azul  brilla  campo  cantar   dato  \\\n",
            "Doc_1        0.482     0.000       0.000  0.00   0.482   0.00   0.389  0.000   \n",
            "Doc_2        0.000     0.000       0.389  0.00   0.000   0.00   0.000  0.000   \n",
            "Doc_3        0.000     0.447       0.000  0.00   0.000   0.00   0.000  0.447   \n",
            "Doc_4        0.000     0.000       0.000  0.55   0.000   0.00   0.444  0.000   \n",
            "Doc_5        0.000     0.000       0.444  0.00   0.000   0.55   0.000  0.000   \n",
            "\n",
            "       encantar  fascinante  inteligencia  learning  machine  mundo  pájaro  \\\n",
            "Doc_1     0.000        0.00         0.000     0.000    0.000  0.000   0.389   \n",
            "Doc_2     0.000        0.00         0.389     0.000    0.000  0.482   0.000   \n",
            "Doc_3     0.447        0.00         0.000     0.447    0.447  0.000   0.000   \n",
            "Doc_4     0.000        0.00         0.000     0.000    0.000  0.000   0.444   \n",
            "Doc_5     0.000        0.55         0.444     0.000    0.000  0.000   0.000   \n",
            "\n",
            "       rápidamente    sol  transformar  ventana  \n",
            "Doc_1        0.000  0.482        0.000     0.00  \n",
            "Doc_2        0.482  0.000        0.482     0.00  \n",
            "Doc_3        0.000  0.000        0.000     0.00  \n",
            "Doc_4        0.000  0.000        0.000     0.55  \n",
            "Doc_5        0.000  0.000        0.000     0.00  \n"
          ]
        }
      ],
      "source": [
        "print(\"--- Comparación BoW vs TF-IDF ---\")\n",
        "\n",
        "print(\"\\nMatriz Bag-of-Words (Revisada con vocabulario TF-IDF):\")\n",
        "print(bow_df_for_compare)\n",
        "\n",
        "print(\"\\nMatriz TF-IDF:\")\n",
        "print(tfidf_df.round(3))"
      ]
    },
    {
      "cell_type": "code",
      "execution_count": null,
      "metadata": {
        "colab": {
          "base_uri": "https://localhost:8080/"
        },
        "id": "qLNEJZ5Ztecw",
        "outputId": "5ae69c3e-573a-4ad2-8b52-d1456efa54a2"
      },
      "outputs": [
        {
          "output_type": "stream",
          "name": "stdout",
          "text": [
            "\n",
            "--- Análisis ---\n",
            "\n",
            "Palabra: 'pájaro'\n",
            "  BoW  :  [1 0 0 1 0]\n",
            "  TF-IDF:  [0.389 0.    0.    0.444 0.   ]\n"
          ]
        }
      ],
      "source": [
        "print(\"\\n--- Análisis ---\")\n",
        "# Ejemplo: Palabra 'pájaro'\n",
        "print(\"\\nPalabra: 'pájaro'\")\n",
        "print(\"  BoW  : \", bow_df_for_compare['pájaro'].values)\n",
        "print(\"  TF-IDF: \", tfidf_df['pájaro'].round(3).values)\n",
        "# Aparece en Doc 1 y 4. Tiene un peso TF-IDF > 0 pero no el máximo, porque aparece en 2/5 documentos."
      ]
    },
    {
      "cell_type": "code",
      "execution_count": null,
      "metadata": {
        "id": "f7xf98sKteZu",
        "colab": {
          "base_uri": "https://localhost:8080/"
        },
        "outputId": "c89088ce-33d9-436d-f566-8561725fd48f"
      },
      "outputs": [
        {
          "output_type": "stream",
          "name": "stdout",
          "text": [
            "\n",
            "Palabra: 'sol'\n",
            "  BoW  :  [1 0 0 0 0]\n",
            "  TF-IDF:  [0.482 0.    0.    0.    0.   ]\n"
          ]
        }
      ],
      "source": [
        "# Ejemplo: Palabra 'sol'\n",
        "print(\"\\nPalabra: 'sol'\")\n",
        "print(\"  BoW  : \", bow_df_for_compare['sol'].values)\n",
        "print(\"  TF-IDF: \", tfidf_df['sol'].round(3).values)\n",
        "# Solo aparece en Doc 1. ¡Tiene un peso TF-IDF alto en ese documento! Es distintiva."
      ]
    },
    {
      "cell_type": "code",
      "execution_count": null,
      "metadata": {
        "id": "i8XLmqUtteXI",
        "colab": {
          "base_uri": "https://localhost:8080/"
        },
        "outputId": "fe4ececb-b2e8-42db-a0fd-963d0e5e2bb1"
      },
      "outputs": [
        {
          "output_type": "stream",
          "name": "stdout",
          "text": [
            "\n",
            "Palabra: 'inteligencia'\n",
            "  BoW  :  [0 1 0 0 1]\n",
            "  TF-IDF:  [0.    0.389 0.    0.    0.444]\n"
          ]
        }
      ],
      "source": [
        "# Ejemplo: Palabra 'inteligencia'\n",
        "print(\"\\nPalabra: 'inteligencia'\")\n",
        "print(\"  BoW  : \", bow_df_for_compare['inteligencia'].values)\n",
        "print(\"  TF-IDF: \", tfidf_df['inteligencia'].round(3).values)\n",
        "# Aparece en Doc 2 y 5. Tiene peso TF-IDF, pero menor que 'sol', porque es menos rara."
      ]
    },
    {
      "cell_type": "code",
      "execution_count": null,
      "metadata": {
        "id": "0S9JAVEbteKI",
        "colab": {
          "base_uri": "https://localhost:8080/"
        },
        "outputId": "52fd630b-a497-4935-890d-435888b14f71"
      },
      "outputs": [
        {
          "output_type": "stream",
          "name": "stdout",
          "text": [
            "\n",
            "Palabra: 'artificial'\n",
            "  BoW  :  [0 1 0 0 1]\n",
            "  TF-IDF:  [0.    0.389 0.    0.    0.444]\n"
          ]
        }
      ],
      "source": [
        "# Ejemplo: Palabra 'artificial'\n",
        "print(\"\\nPalabra: 'artificial'\")\n",
        "print(\"  BoW  : \", bow_df_for_compare['artificial'].values)\n",
        "print(\"  TF-IDF: \", tfidf_df['artificial'].round(3).values)\n",
        "# Idem 'inteligencia'."
      ]
    },
    {
      "cell_type": "markdown",
      "metadata": {
        "id": "ALDxnfzIuB9g"
      },
      "source": [
        "**Conclusiones de la Comparación:**\n",
        "\n",
        "*   BoW da igual importancia (si aparecen 1 vez) a \"sol\" y \"pájaro\" en el Doc 1.\n",
        "*   TF-IDF le da más peso a \"sol\" en el Doc 1 porque \"sol\" es más rara en todo el corpus (solo aparece ahí) que \"pájaro\" (aparece en Doc 1 y 4).\n",
        "*   TF-IDF captura mejor la \"importancia relativa\" o \"distintividad\" de las palabras.\n",
        "*   Las palabras que aparecen en muchos documentos (si hubiera) tendrían un peso TF-IDF muy bajo.\n",
        "\n",
        "**Ventajas de TF-IDF sobre BoW:** Generalmente produce mejores resultados en tareas como clasificación de texto, clustering y búsqueda de información porque pondera las palabras de forma más inteligente.\n",
        "\n",
        "**Limitaciones (que aún persisten):**\n",
        "*   **Ignora el orden de las palabras:** \"hombre muerde perro\" y \"perro muerde hombre\" tendrían representaciones muy similares.\n",
        "*   **No captura sinonimia:** \"auto\" y \"coche\" son dimensiones diferentes.\n",
        "*   **Dimensionalidad alta:** Seguimos teniendo tantas columnas como palabras únicas en el vocabulario."
      ]
    },
    {
      "cell_type": "markdown",
      "metadata": {
        "id": "ANf9C4_AuURY"
      },
      "source": [
        "# 7. Micro-Laboratorio (Ejercicio Práctico)\n",
        "\n",
        "**Consigna:**\n",
        "\n",
        "Usando las `reviews` y las funciones de preprocesamiento de clases previas (o volviendo a procesarlas ahora):\n",
        "1.  Asegúrate de tener la lista de `reviews_preprocesadas` (cada elemento es un string con los lemas unidos por espacios). Si no la tenés, generála usando la función `preprocesar_texto_para_vectorizar` sobre las `reviews` originales.\n",
        "2.  **Crear Matriz BoW:**\n",
        "    *   Instancia un `CountVectorizer`.\n",
        "    *   Aplícalo a las `reviews_preprocesadas` usando `fit_transform()`.\n",
        "    *   Obtén el vocabulario (`get_feature_names_out()`).\n",
        "    *   Crea un DataFrame de Pandas para visualizar la matriz BoW.\n",
        "3.  **Crear Matriz TF-IDF:**\n",
        "    *   Instancia un `TfidfVectorizer`.\n",
        "    *   Aplícalo a las **mismas** `reviews_preprocesadas` usando `fit_transform()`.\n",
        "    *   **Importante:** Para comparar fácil, puedes pasarle el vocabulario aprendido por el CountVectorizer al TfidfVectorizer usando el argumento `vocabulary=`. O viceversa. La idea es que ambas matrices usen las mismas columnas en el mismo orden.\n",
        "    *   Crea un DataFrame de Pandas para visualizar la matriz TF-IDF (redondea los valores a 3 decimales).\n",
        "4.  **Analizar:**\n",
        "    *   Imprime ambas matrices.\n",
        "    *   Elige una o dos reviews. ¿Qué palabras tienen los pesos más altos en TF-IDF para esa review? ¿Coincide con lo que esperarías que sean las palabras clave de esa review?\n",
        "    *   Busca alguna palabra que tenga un conteo > 0 en BoW pero un peso TF-IDF relativamente bajo. ¿Por qué podría ser? (Pista: ¿aparece en muchas reviews?)."
      ]
    },
    {
      "cell_type": "code",
      "execution_count": null,
      "metadata": {
        "id": "5rxQecyytQiI"
      },
      "outputs": [],
      "source": [
        "# Dataset (el mismo del martes)\n",
        "reviews = [\n",
        "    \"Una película emocionante con actuaciones brillantes. ¡Me encantó!\",\n",
        "    \"Muy aburrida y lenta. El guión era predecible y los actores no convencían.\",\n",
        "    \"Los efectos especiales fueron impresionantes, pero la historia dejaba mucho que desear.\",\n",
        "    \"¡Qué gran comedia! Me reí sin parar durante toda la película.\",\n",
        "    \"Un documental necesario que aborda temas importantes con profundidad y sensibilidad.\"\n",
        "]"
      ]
    },
    {
      "cell_type": "markdown",
      "metadata": {
        "id": "0qQ0l_jfuvw2"
      },
      "source": [
        "# 8. Brainstorming\n",
        "\n",
        "Hemos visto BoW y TF-IDF. Son pasos importantes, pero ¿son suficientes?\n",
        "\n",
        "**¿Cómo podemos representar el texto de manera que se preserve la información relevante y se minimice el ruido?**\n",
        "\n",
        "*   ¿Qué información crucial **pierden** BoW y TF-IDF? (¡El orden de las palabras! La semántica, la relación entre palabras).\n",
        "*   \"El rey mató a la reina\" vs \"La reina mató al rey\". ¿BoW/TF-IDF las distinguirían bien? (No mucho).\n",
        "*   ¿Cómo podríamos capturar que \"coche\" y \"auto\" significan casi lo mismo? (BoW/TF-IDF las tratan como totalmente diferentes).\n",
        "*   ¿Qué pasa con la **dimensionalidad**? Si tenemos 50,000 palabras únicas, ¡nuestros vectores tienen 50,000 dimensiones! ¿Es eficiente?\n",
        "*   ¿Cómo afectan nuestras decisiones de preprocesamiento (stemming vs lematización, quitar o no ciertas palabras) a estas representaciones?\n",
        "\n",
        "**Próximos pasos (anticipo):**\n",
        "*   **Word Embeddings (Word2Vec, GloVe, FastText):** Representar palabras como vectores densos (no dispersos como BoW/TF-IDF) en un espacio donde palabras semánticamente similares estén cerca. ¡Capturan significado!\n",
        "*   **Modelos Secuenciales (RNN, LSTM, GRU):** Redes neuronales diseñadas para procesar secuencias, teniendo en cuenta el orden de las palabras.\n",
        "*   **Transformers (BERT, GPT):** Arquitecturas más modernas que usan mecanismos de \"atención\" para entender el contexto de cada palabra en la oración.\n",
        "\n",
        "**(Discusión en grupo)**"
      ]
    },
    {
      "cell_type": "markdown",
      "source": [
        "# GUÍA DE ESTUDIO - FUNDAMENTOS BoW Y TF-IDF\n",
        "\n",
        "## Preguntas y Respuestas Clave\n",
        "\n",
        "### **Conceptos Fundamentales**\n",
        "\n",
        "**P: ¿Qué representa cada celda en una matriz BoW?**  \n",
        "R: El número de veces que aparece una palabra específica (columna) en un documento específico (fila).\n",
        "\n",
        "**P: ¿Por qué TF-IDF es mejor que BoW simple?**  \n",
        "R: Porque penaliza palabras muy comunes y destaca palabras distintivas. Una palabra rara en el corpus pero frecuente en un documento recibe mayor peso.\n",
        "\n",
        "**P: ¿Qué significa que una matriz sea \"dispersa\"?**  \n",
        "R: Que la mayoría de sus valores son cero (muchas palabras no aparecen en cada documento).\n",
        "\n",
        "### **Aplicaciones Prácticas**\n",
        "\n",
        "**P: ¿Cuándo usarías BoW en lugar de TF-IDF?**  \n",
        "R: Cuando necesitas interpretabilidad absoluta, tienes pocos datos, o como baseline inicial para comparar métodos más complejos.\n",
        "\n",
        "**P: ¿Qué problemas NO resuelve TF-IDF?**  \n",
        "R: No entiende que \"auto\" y \"coche\" significan lo mismo, ignora el orden de palabras, y genera espacios de alta dimensión.\n",
        "\n",
        "### **Implementación Técnica**\n",
        "\n",
        "**P: ¿Qué hace `fit_transform()` en scikit-learn?**  \n",
        "R: Primero aprende el vocabulario del corpus (fit), luego transforma los textos en matrices numéricas (transform).\n",
        "\n",
        "**P: ¿Por qué preprocesamos texto antes de vectorizar?**  \n",
        "R: Para reducir ruido, normalizar variaciones (mayúsculas/minúsculas), y mejorar la calidad de la representación.\n",
        "\n",
        "### **Decisiones de Diseño**\n",
        "\n",
        "**P: ¿Stemming o lematización para BoW/TF-IDF?**  \n",
        "R: Lematización generalmente mejor para TF-IDF porque mantiene palabras interpretables y captura mejor la semántica.\n",
        "\n",
        "**P: ¿Cuándo incluir bigramas o n-gramas?**  \n",
        "R: Cuando el orden de palabras es crucial (\"muy bueno\" vs \"bueno muy\") o para capturar expresiones idiomáticas.\n",
        "\n",
        "## Puntos Clave para Recordar\n",
        "\n",
        "1. **BoW cuenta, TF-IDF pondera** según importancia relativa\n",
        "2. **Ambos métodos ignoran orden** y relaciones semánticas\n",
        "3. **Preprocesamiento es crucial** para calidad de resultados\n",
        "4. **Son baseline excelentes** pero tienen limitaciones fundamentales\n",
        "5. **Scikit-learn facilita** la implementación con CountVectorizer y TfidfVectorizer\n",
        "\n",
        "## Conexión con Próxima Clase\n",
        "\n",
        "¿Cómo podríamos capturar que \"excelente\", \"genial\" y \"fantástico\" son conceptualmente similares? La próxima clase explorará **embeddings de palabras** que resuelven esta limitación fundamental.\n",
        "\n",
        "---\n",
        "*Consejo: Practica explicando a alguien más por qué TF-IDF da diferentes pesos a las palabras. Si podés explicarlo claramente, dominás el concepto.*"
      ],
      "metadata": {
        "id": "uPDxZ9d_VCwf"
      }
    }
  ],
  "metadata": {
    "colab": {
      "provenance": []
    },
    "kernelspec": {
      "display_name": "Python 3",
      "name": "python3"
    },
    "language_info": {
      "name": "python"
    }
  },
  "nbformat": 4,
  "nbformat_minor": 0
}